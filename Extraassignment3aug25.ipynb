{
 "cells": [
  {
   "cell_type": "code",
   "execution_count": 2,
   "id": "bfe655c8-7a10-4876-b84f-91cae739cd65",
   "metadata": {},
   "outputs": [
    {
     "name": "stdin",
     "output_type": "stream",
     "text": [
      "value: 10\n"
     ]
    },
    {
     "name": "stdout",
     "output_type": "stream",
     "text": [
      "correct\n"
     ]
    }
   ],
   "source": [
    "value=int(input(\"value:\"))\n",
    "if(value==10):\n",
    "    print(\"correct\")"
   ]
  },
  {
   "cell_type": "code",
   "execution_count": 15,
   "id": "e6614367-0521-4599-8728-1848cf0435bb",
   "metadata": {},
   "outputs": [],
   "source": [
    "passward=\"Hope@123\""
   ]
  },
  {
   "cell_type": "code",
   "execution_count": 17,
   "id": "ce6c1649-f867-4ae3-b6fa-73319afe75f4",
   "metadata": {},
   "outputs": [
    {
     "name": "stdin",
     "output_type": "stream",
     "text": [
      "Enter the passward: Hope@123\n"
     ]
    },
    {
     "name": "stdout",
     "output_type": "stream",
     "text": [
      "your passward is correct\n"
     ]
    }
   ],
   "source": [
    "passward=input(\"Enter the passward:\")\n",
    "if(passward==\"Hope@123\"):\n",
    "    print(\"your passward is correct\")\n",
    "else:\n",
    "    print(\"your passward is wrong\")"
   ]
  },
  {
   "cell_type": "code",
   "execution_count": 18,
   "id": "ca2fe737-67c1-4292-8402-df2784e5df20",
   "metadata": {},
   "outputs": [
    {
     "name": "stdin",
     "output_type": "stream",
     "text": [
      "age: 20\n"
     ]
    },
    {
     "name": "stdout",
     "output_type": "stream",
     "text": [
      "adult\n"
     ]
    }
   ],
   "source": [
    "age=int(input(\"age:\"))\n",
    "if(age<18):\n",
    "    print(\"child\")\n",
    "elif(age<35):\n",
    "    print(\"adult\")\n",
    "elif(age<55):\n",
    "    print(\"citizen\")\n",
    "else:\n",
    "    print(\"senior citizen\")"
   ]
  },
  {
   "cell_type": "code",
   "execution_count": 23,
   "id": "ca29c434-ac00-4cca-b982-777380f0e72d",
   "metadata": {},
   "outputs": [
    {
     "name": "stdin",
     "output_type": "stream",
     "text": [
      "Enter any number 1\n"
     ]
    },
    {
     "name": "stdout",
     "output_type": "stream",
     "text": [
      "numebr is positive\n"
     ]
    }
   ],
   "source": [
    "number=int(input(\"Enter any number\"))\n",
    "if(number>=0):\n",
    "    print(\"numebr is positive\")\n",
    "else:\n",
    "    print(\"numeber is negative\")"
   ]
  },
  {
   "cell_type": "code",
   "execution_count": 31,
   "id": "429db255-8292-402f-8548-0088b249856b",
   "metadata": {},
   "outputs": [
    {
     "name": "stdin",
     "output_type": "stream",
     "text": [
      "enter a number to check 22\n"
     ]
    },
    {
     "name": "stdout",
     "output_type": "stream",
     "text": [
      "it is not divisible by 5\n"
     ]
    }
   ],
   "source": [
    "div=int(input(\"enter a number to check\"))\n",
    "if(div%5==0):\n",
    "    print(\"it is divisible by 5\")\n",
    "else:\n",
    "    print(\"it is not divisible by 5\")"
   ]
  },
  {
   "cell_type": "code",
   "execution_count": null,
   "id": "0b0d294b-7047-4b78-9f7d-45ec8a5c1cab",
   "metadata": {},
   "outputs": [],
   "source": []
  }
 ],
 "metadata": {
  "kernelspec": {
   "display_name": "Python 3 (ipykernel)",
   "language": "python",
   "name": "python3"
  },
  "language_info": {
   "codemirror_mode": {
    "name": "ipython",
    "version": 3
   },
   "file_extension": ".py",
   "mimetype": "text/x-python",
   "name": "python",
   "nbconvert_exporter": "python",
   "pygments_lexer": "ipython3",
   "version": "3.12.4"
  }
 },
 "nbformat": 4,
 "nbformat_minor": 5
}
