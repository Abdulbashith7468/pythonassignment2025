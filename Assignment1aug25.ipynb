{
 "cells": [
  {
   "cell_type": "code",
   "execution_count": 1,
   "id": "307303d5-ea86-49e1-b062-87688c7b07cf",
   "metadata": {},
   "outputs": [
    {
     "name": "stdout",
     "output_type": "stream",
     "text": [
      "HOPE AI\n"
     ]
    }
   ],
   "source": [
    "print(\"HOPE AI\")"
   ]
  },
  {
   "cell_type": "code",
   "execution_count": 2,
   "id": "6c614c04-94b4-4c3d-9494-ee455656018b",
   "metadata": {},
   "outputs": [
    {
     "name": "stdin",
     "output_type": "stream",
     "text": [
      "Enter your institute name= HOPE AI\n"
     ]
    },
    {
     "name": "stdout",
     "output_type": "stream",
     "text": [
      "HOPE AI\n"
     ]
    }
   ],
   "source": [
    "name=input(\"Enter your institute name=\")\n",
    "print(name)"
   ]
  },
  {
   "cell_type": "code",
   "execution_count": 6,
   "id": "2aa7a4e8-607d-4c7e-9097-3547e2b16d3d",
   "metadata": {},
   "outputs": [
    {
     "name": "stdin",
     "output_type": "stream",
     "text": [
      "Enter Your Name= Abdul Bashith\n",
      "Enter Your Age= 39\n",
      "Enter Your School Name= Pattu matric hr. sec school\n",
      "Enter Your Degree= D.M.E\n"
     ]
    }
   ],
   "source": [
    "Name=input(\"Enter Your Name=\")\n",
    "Age=input(\"Enter Your Age=\")\n",
    "Schoolname=input(\"Enter Your School Name=\")\n",
    "Degree=input(\"Enter Your Degree=\")"
   ]
  },
  {
   "cell_type": "code",
   "execution_count": 8,
   "id": "70f3ef96-c7dd-4e69-a386-58422e3d9881",
   "metadata": {},
   "outputs": [
    {
     "name": "stdout",
     "output_type": "stream",
     "text": [
      "a= 43\n",
      "b= 34\n",
      "add= 77\n"
     ]
    }
   ],
   "source": [
    "#addition\n",
    "a=43\n",
    "b=34\n",
    "add=a+b\n",
    "print(\"a=\",a)\n",
    "print(\"b=\",b)\n",
    "print(\"add=\",add)"
   ]
  },
  {
   "cell_type": "code",
   "execution_count": 9,
   "id": "fda75b89-e04f-4748-b7f2-dbab875cbd4a",
   "metadata": {},
   "outputs": [
    {
     "name": "stdout",
     "output_type": "stream",
     "text": [
      "a= 43\n",
      "b= 34\n",
      "sub= 9\n"
     ]
    }
   ],
   "source": [
    "#subtraction\n",
    "a=43\n",
    "b=34\n",
    "sub=a-b\n",
    "print(\"a=\",a)\n",
    "print(\"b=\",b)\n",
    "print(\"sub=\",sub)\n"
   ]
  },
  {
   "cell_type": "code",
   "execution_count": 10,
   "id": "2a7175d0-78e3-4894-affc-0d1251dd5947",
   "metadata": {},
   "outputs": [
    {
     "name": "stdout",
     "output_type": "stream",
     "text": [
      "a= 43\n",
      "b= 34\n",
      "mul= 1462\n"
     ]
    }
   ],
   "source": [
    "#multiplication\n",
    "a=43\n",
    "b=34\n",
    "mul=a*b\n",
    "print(\"a=\",a)\n",
    "print(\"b=\",b)\n",
    "print(\"mul=\",mul)"
   ]
  },
  {
   "cell_type": "code",
   "execution_count": 17,
   "id": "abe03fa9-5e6e-4487-be90-819c55d1a00c",
   "metadata": {},
   "outputs": [
    {
     "name": "stdout",
     "output_type": "stream",
     "text": [
      "a= 76\n",
      "b= 31\n",
      "modulo= 2\n"
     ]
    }
   ],
   "source": [
    "#Floordivision\n",
    "a=76\n",
    "b=31\n",
    "mod=a//b\n",
    "print(\"a=\",a)\n",
    "print(\"b=\",b)\n",
    "print(\"modulo=\",mod)"
   ]
  },
  {
   "cell_type": "code",
   "execution_count": 15,
   "id": "6b63747c-6a18-4e91-948c-f0e9184c1b66",
   "metadata": {},
   "outputs": [
    {
     "name": "stdout",
     "output_type": "stream",
     "text": [
      "a= 4\n",
      "b= 4\n",
      "Power= 256\n"
     ]
    }
   ],
   "source": [
    "#POWER\n",
    "a=4\n",
    "b=4\n",
    "pow=(a**b)\n",
    "print(\"a=\",a)\n",
    "print(\"b=\",b)\n",
    "print(\"Power=\",pow)"
   ]
  },
  {
   "cell_type": "code",
   "execution_count": 18,
   "id": "ab3cab99-f41f-403a-b3d6-050cf02a9970",
   "metadata": {},
   "outputs": [
    {
     "name": "stdout",
     "output_type": "stream",
     "text": [
      "a= 76\n",
      "b= 31\n",
      "modulo= 14\n"
     ]
    }
   ],
   "source": [
    "#MODULO\n",
    "a=76\n",
    "b=31\n",
    "mod=a%b\n",
    "print(\"a=\",a)\n",
    "print(\"b=\",b)\n",
    "print(\"modulo=\",mod)"
   ]
  },
  {
   "cell_type": "code",
   "execution_count": null,
   "id": "17fc9412-5151-47d6-8eb5-827c4bb25284",
   "metadata": {},
   "outputs": [],
   "source": []
  }
 ],
 "metadata": {
  "kernelspec": {
   "display_name": "Python 3 (ipykernel)",
   "language": "python",
   "name": "python3"
  },
  "language_info": {
   "codemirror_mode": {
    "name": "ipython",
    "version": 3
   },
   "file_extension": ".py",
   "mimetype": "text/x-python",
   "name": "python",
   "nbconvert_exporter": "python",
   "pygments_lexer": "ipython3",
   "version": "3.12.4"
  }
 },
 "nbformat": 4,
 "nbformat_minor": 5
}
