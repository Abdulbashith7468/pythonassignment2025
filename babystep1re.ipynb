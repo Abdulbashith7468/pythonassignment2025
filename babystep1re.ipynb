{
 "cells": [
  {
   "cell_type": "code",
   "execution_count": 1,
   "id": "b1986118-6f25-4fcd-a9b8-13dfa5df8147",
   "metadata": {},
   "outputs": [
    {
     "name": "stdout",
     "output_type": "stream",
     "text": [
      "Welcome To Assignment - 1\n"
     ]
    }
   ],
   "source": [
    "print(\"Welcome To Assignment - 1\")"
   ]
  },
  {
   "cell_type": "code",
   "execution_count": 6,
   "id": "afc41cdd-960f-40de-9bba-6b0660b1f45e",
   "metadata": {},
   "outputs": [
    {
     "name": "stdout",
     "output_type": "stream",
     "text": [
      "Num1= 10\n",
      "Num2= 30\n",
      "add= 40\n"
     ]
    }
   ],
   "source": [
    "Num1=10\n",
    "Num2=30\n",
    "add=Num1+Num2\n",
    "print(\"Num1=\",Num1)\n",
    "print(\"Num2=\",Num2)\n",
    "print(\"add=\",add)"
   ]
  },
  {
   "cell_type": "code",
   "execution_count": 11,
   "id": "5bd217ce-ee05-4925-9813-137c33e5f6a3",
   "metadata": {},
   "outputs": [
    {
     "name": "stdin",
     "output_type": "stream",
     "text": [
      "enter the bmi 34\n"
     ]
    },
    {
     "name": "stdout",
     "output_type": "stream",
     "text": [
      "VERY OVER WEIGHT\n"
     ]
    }
   ],
   "source": [
    "#body mass index\n",
    "bmi=int(input(\"enter the bmi\"))\n",
    "if(bmi<18.5):\n",
    "    print(\"UNDER WEIGHT\")\n",
    "elif(bmi==18.5-24.9):\n",
    "    print(\"NORMAL WEIGHT\")\n",
    "elif(bmi==25-29.9):\n",
    "    print(\"OVER WEIGHT\")\n",
    "else:\n",
    "    print(\"VERY OVER WEIGHT\")\n",
    "\n"
   ]
  },
  {
   "cell_type": "code",
   "execution_count": null,
   "id": "d6818663-7e50-4fe9-9c7b-1bfd621407a7",
   "metadata": {},
   "outputs": [],
   "source": []
  }
 ],
 "metadata": {
  "kernelspec": {
   "display_name": "Python 3 (ipykernel)",
   "language": "python",
   "name": "python3"
  },
  "language_info": {
   "codemirror_mode": {
    "name": "ipython",
    "version": 3
   },
   "file_extension": ".py",
   "mimetype": "text/x-python",
   "name": "python",
   "nbconvert_exporter": "python",
   "pygments_lexer": "ipython3",
   "version": "3.12.4"
  }
 },
 "nbformat": 4,
 "nbformat_minor": 5
}
