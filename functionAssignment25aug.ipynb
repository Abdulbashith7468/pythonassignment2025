{
 "cells": [
  {
   "cell_type": "code",
   "execution_count": 19,
   "id": "a6fd1d52-b32e-426b-b566-32856015e1e5",
   "metadata": {},
   "outputs": [],
   "source": [
    "lists=[\"Subfiels in Ai are:\",\"Machine learning\",\"Neural network\",\"Vision\",\"Robotics\",\"Speech processing\",\"Natural language processing\"]"
   ]
  },
  {
   "cell_type": "code",
   "execution_count": 20,
   "id": "f4a76239-d21d-4cf4-8856-18ed99665753",
   "metadata": {},
   "outputs": [],
   "source": [
    "def SubfieldsinAI_subfields():\n",
    "    for subfields in lists:\n",
    "        print(subfields)"
   ]
  },
  {
   "cell_type": "code",
   "execution_count": 21,
   "id": "ab2af078-9536-45a1-8b73-b2bd6a0ef11f",
   "metadata": {},
   "outputs": [
    {
     "name": "stdout",
     "output_type": "stream",
     "text": [
      "Subfiels in Ai are:\n",
      "Machine learning\n",
      "Neural network\n",
      "Vision\n",
      "Robotics\n",
      "Speech processing\n",
      "Natural language processing\n"
     ]
    }
   ],
   "source": [
    "SubfieldsinAI_subfields()"
   ]
  },
  {
   "cell_type": "code",
   "execution_count": 22,
   "id": "babd1d46-f294-47da-a9fa-10410d98609b",
   "metadata": {},
   "outputs": [],
   "source": [
    "def Oddeven_oddeven():\n",
    "    num=int(input(\"Enter a number\"))\n",
    "    if (num%2==1):\n",
    "        print(num,\"is odd number\")\n",
    "    else:\n",
    "        print(num,\"is even number\")"
   ]
  },
  {
   "cell_type": "code",
   "execution_count": 23,
   "id": "c1e6dddd-f7c6-4dd2-abf4-7434f6ddd608",
   "metadata": {},
   "outputs": [
    {
     "name": "stdin",
     "output_type": "stream",
     "text": [
      "Enter a number 52452\n"
     ]
    },
    {
     "name": "stdout",
     "output_type": "stream",
     "text": [
      "52452 is even number\n"
     ]
    }
   ],
   "source": [
    "Oddeven_oddeven()"
   ]
  },
  {
   "cell_type": "code",
   "execution_count": 26,
   "id": "9a0aa68e-865f-41be-96ed-6479ae91e8c8",
   "metadata": {},
   "outputs": [],
   "source": [
    "def Oddeven_oddeven():\n",
    "    num=int(input(\"Enter a number\"))\n",
    "    if (num%2==1):\n",
    "        print(num,\"is odd number\")\n",
    "        num=\"ODD NUMBER\"\n",
    "    else:\n",
    "        print(num,\"is even number\")\n",
    "        num=\"EVEN NUMBER\"\n",
    "    return num"
   ]
  },
  {
   "cell_type": "code",
   "execution_count": 27,
   "id": "1e801828-fda3-4f69-8f63-e1dea65cce00",
   "metadata": {},
   "outputs": [
    {
     "name": "stdin",
     "output_type": "stream",
     "text": [
      "Enter a number 52452\n"
     ]
    },
    {
     "name": "stdout",
     "output_type": "stream",
     "text": [
      "52452 is even number\n"
     ]
    },
    {
     "data": {
      "text/plain": [
       "'EVEN NUMBER'"
      ]
     },
     "execution_count": 27,
     "metadata": {},
     "output_type": "execute_result"
    }
   ],
   "source": [
    "Oddeven_oddeven()"
   ]
  },
  {
   "cell_type": "code",
   "execution_count": 46,
   "id": "bada9ea5-4052-422f-9d94-d24c920b4a30",
   "metadata": {},
   "outputs": [],
   "source": [
    "def Eligibilityformarriage():\n",
    "    age=int(input(\"Your age:\"))\n",
    "    gender=input(\"Your gender:\")\n",
    "    if (age>25 and gender==\"male\"):\n",
    "        print(\"elgibile for marriage\")\n",
    "    elif(age>21 and gender==\"female\"):\n",
    "        print(\"eligibile for marriage\")\n",
    "    else:\n",
    "        print(\"not eligible for marriage\")"
   ]
  },
  {
   "cell_type": "code",
   "execution_count": 47,
   "id": "a49b46d6-f718-4b01-b7d7-d7a19ab2daf1",
   "metadata": {},
   "outputs": [
    {
     "name": "stdin",
     "output_type": "stream",
     "text": [
      "Your age: 20\n",
      "Your gender: male\n"
     ]
    },
    {
     "name": "stdout",
     "output_type": "stream",
     "text": [
      "not eligible for marriage\n"
     ]
    }
   ],
   "source": [
    "Eligibilityformarriage()"
   ]
  },
  {
   "cell_type": "code",
   "execution_count": 48,
   "id": "d6105ef4-9efc-4750-a20a-fba409bb42f0",
   "metadata": {},
   "outputs": [],
   "source": [
    "def Eligibilityformarriage():\n",
    "    age=int(input(\"Your age:\"))\n",
    "    gender=input(\"Your gender:\")\n",
    "    if (age>25 and gender==\"male\"):\n",
    "        print(\"elgibile for marriage\")\n",
    "        application=\"ELGIBILE FOR MARRIAGE\"\n",
    "    elif(age>21 and gender==\"female\"):\n",
    "        print(\"eligibile for marriage\")\n",
    "        application=\"ELGIBILE FOR MARRIAGE\"\n",
    "    else:\n",
    "        print(\"not eligible for marriage\")\n",
    "        application=\"NOT ELGIBILE FOR MARRIAGE\"\n",
    "    return application"
   ]
  },
  {
   "cell_type": "code",
   "execution_count": 49,
   "id": "40f46064-bfaa-4f25-ae08-bdae745b01e0",
   "metadata": {},
   "outputs": [
    {
     "name": "stdin",
     "output_type": "stream",
     "text": [
      "Your age: 22\n",
      "Your gender: female\n"
     ]
    },
    {
     "name": "stdout",
     "output_type": "stream",
     "text": [
      "eligibile for marriage\n"
     ]
    }
   ],
   "source": [
    "Marriage_Application=Eligibilityformarriage()"
   ]
  },
  {
   "cell_type": "code",
   "execution_count": 50,
   "id": "f5cb9069-9659-48bf-8011-b0490e561a92",
   "metadata": {},
   "outputs": [
    {
     "name": "stdin",
     "output_type": "stream",
     "text": [
      "Your age: 20\n",
      "Your gender: male\n"
     ]
    },
    {
     "name": "stdout",
     "output_type": "stream",
     "text": [
      "not eligible for marriage\n"
     ]
    },
    {
     "data": {
      "text/plain": [
       "'NOT ELGIBILE FOR MARRIAGE'"
      ]
     },
     "execution_count": 50,
     "metadata": {},
     "output_type": "execute_result"
    }
   ],
   "source": [
    "Eligibilityformarriage()"
   ]
  },
  {
   "cell_type": "code",
   "execution_count": 51,
   "id": "74b9a6ab-29c0-4594-954f-b8ece284cdb1",
   "metadata": {},
   "outputs": [],
   "source": [
    "def Findpercentageofmarksheet():\n",
    "    subject1=int(input(\"subject1=\"))\n",
    "    subject2=int(input(\"subject2=\"))\n",
    "    subject3=int(input(\"subject3=\"))\n",
    "    subject4=int(input(\"subject4=\"))\n",
    "    subject5=int(input(\"subject5=\"))\n",
    "    Total=(subject1+subject2+subject3+subject4+subject5)\n",
    "    percentage=(Total/5)\n",
    "    print(\"Total=\",Total)\n",
    "    print(\"percentage=\",percentage)"
   ]
  },
  {
   "cell_type": "code",
   "execution_count": 52,
   "id": "d1ade8cc-4f4f-455e-a71b-1f7d5d2398ea",
   "metadata": {},
   "outputs": [
    {
     "name": "stdin",
     "output_type": "stream",
     "text": [
      "subject1= 97\n",
      "subject2= 93\n",
      "subject3= 96\n",
      "subject4= 94\n",
      "subject5= 99\n"
     ]
    },
    {
     "name": "stdout",
     "output_type": "stream",
     "text": [
      "Total= 479\n",
      "percentage= 95.8\n"
     ]
    }
   ],
   "source": [
    "Findpercentageofmarksheet()"
   ]
  },
  {
   "cell_type": "code",
   "execution_count": 53,
   "id": "31a5cbce-cff7-4462-aeee-8c7a83f506d3",
   "metadata": {},
   "outputs": [],
   "source": [
    "def Findpercentageofmarksheet():\n",
    "    subject1=int(input(\"subject1=\"))\n",
    "    subject2=int(input(\"subject2=\"))\n",
    "    subject3=int(input(\"subject3=\"))\n",
    "    subject4=int(input(\"subject4=\"))\n",
    "    subject5=int(input(\"subject5=\"))\n",
    "    Total=(subject1+subject2+subject3+subject4+subject5)\n",
    "    percentage=(Total/5)\n",
    "    print(\"Total=\",Total)\n",
    "    print(\"percentage=\",percentage)\n",
    "    return percentage"
   ]
  },
  {
   "cell_type": "code",
   "execution_count": 54,
   "id": "5c970e57-32c3-4e81-8437-ed5271488d43",
   "metadata": {},
   "outputs": [
    {
     "name": "stdin",
     "output_type": "stream",
     "text": [
      "subject1= 97\n",
      "subject2= 93\n",
      "subject3= 95\n",
      "subject4= 91\n",
      "subject5= 90\n"
     ]
    },
    {
     "name": "stdout",
     "output_type": "stream",
     "text": [
      "Total= 466\n",
      "percentage= 93.2\n"
     ]
    },
    {
     "data": {
      "text/plain": [
       "93.2"
      ]
     },
     "execution_count": 54,
     "metadata": {},
     "output_type": "execute_result"
    }
   ],
   "source": [
    "Findpercentageofmarksheet()"
   ]
  },
  {
   "cell_type": "code",
   "execution_count": 55,
   "id": "adb77329-eca3-470a-bf1b-d1ad02361f09",
   "metadata": {},
   "outputs": [
    {
     "name": "stdin",
     "output_type": "stream",
     "text": [
      "subject1= 89\n",
      "subject2= 91\n",
      "subject3= 93\n",
      "subject4= 85\n",
      "subject5= 87\n"
     ]
    },
    {
     "name": "stdout",
     "output_type": "stream",
     "text": [
      "Total= 445\n",
      "percentage= 89.0\n"
     ]
    }
   ],
   "source": [
    "Tenth_marksheet=Findpercentageofmarksheet()"
   ]
  },
  {
   "cell_type": "code",
   "execution_count": 63,
   "id": "2dffb13c-a11f-4521-90f6-b8f1746485e2",
   "metadata": {},
   "outputs": [],
   "source": [
    "def Areaoftriangle():\n",
    "    height=int(input(\"Height:\"))\n",
    "    breadth=int(input(\"Breadth:\"))\n",
    "    areaoftriangle=1/2*breadth*height\n",
    "    print(\"Area of triangle:\",areaoftriangle)"
   ]
  },
  {
   "cell_type": "code",
   "execution_count": 64,
   "id": "2201fbfa-e0cb-4893-82a4-8ac5ff605c5a",
   "metadata": {},
   "outputs": [
    {
     "name": "stdin",
     "output_type": "stream",
     "text": [
      "Height: 32\n",
      "Breadth: 34\n"
     ]
    },
    {
     "name": "stdout",
     "output_type": "stream",
     "text": [
      "Area of triangle: 544.0\n"
     ]
    }
   ],
   "source": [
    "Areaoftriangle()"
   ]
  },
  {
   "cell_type": "code",
   "execution_count": 61,
   "id": "8a1a0df9-0ba6-4a26-96c8-9d36dabdb06d",
   "metadata": {},
   "outputs": [],
   "source": [
    "def Areaofperimeter():\n",
    "    height1=int(input(\"Height1:\"))\n",
    "    height2=int(input(\"Height2:\"))\n",
    "    breadth=int(input(\"Breadth:\"))\n",
    "    areaofperimeter=height1+height2+breadth\n",
    "    print(\"Area of perimeter:\",areaofperimeter)"
   ]
  },
  {
   "cell_type": "code",
   "execution_count": 62,
   "id": "66db225c-e145-430e-876b-9696ab8ed29c",
   "metadata": {},
   "outputs": [
    {
     "name": "stdin",
     "output_type": "stream",
     "text": [
      "Height1: 2\n",
      "Height2: 4\n",
      "Breadth: 4\n"
     ]
    },
    {
     "name": "stdout",
     "output_type": "stream",
     "text": [
      "Area of perimeter: 10\n"
     ]
    }
   ],
   "source": [
    "Areaofperimeter()"
   ]
  },
  {
   "cell_type": "code",
   "execution_count": 79,
   "id": "375c1f69-b95b-4531-b91f-54e00d0654c8",
   "metadata": {},
   "outputs": [],
   "source": [
    "def Findpercentageofmarksheet():\n",
    "    subject1=int(input(\"subject1=\"))\n",
    "    subject2=int(input(\"subject2=\"))\n",
    "    subject3=int(input(\"subject3=\"))\n",
    "    subject4=int(input(\"subject4=\"))\n",
    "    subject5=int(input(\"subject5=\"))\n",
    "    Total=(subject1+subject2+subject3+subject4+subject5)\n",
    "    percentage=(Total/5)\n",
    "    print(\"Total=\",Total)\n",
    "    print(\"percentage=\",percentage)\n",
    "    if ((subject1>34)==(subject2>34)==(subject3>34)==(subject4>34)==(subject5>34)):\n",
    "        print(\"pass and second class\")\n",
    "    elif ((subject1>65)==(subject>65)==(subject3>65)==(subject4>65)==(subject5>65)):\n",
    "        print(\"pass and first class\")\n",
    "    else:\n",
    "        print(\"fail and third class\")\n",
    "    return percentage"
   ]
  },
  {
   "cell_type": "code",
   "execution_count": 71,
   "id": "7389c614-283d-43b9-b9f3-c7513efc3b77",
   "metadata": {},
   "outputs": [
    {
     "name": "stdin",
     "output_type": "stream",
     "text": [
      "subject1= 31\n",
      "subject2= 55\n",
      "subject3= 38\n",
      "subject4= 45\n",
      "subject5= 41\n"
     ]
    },
    {
     "name": "stdout",
     "output_type": "stream",
     "text": [
      "Total= 210\n",
      "percentage= 42.0\n",
      "fail and third class\n"
     ]
    }
   ],
   "source": [
    "student2=Findpercentageofmarksheet()"
   ]
  },
  {
   "cell_type": "code",
   "execution_count": 78,
   "id": "609be1e4-8018-4eca-938f-04139593c262",
   "metadata": {},
   "outputs": [
    {
     "name": "stdin",
     "output_type": "stream",
     "text": [
      "subject1= 99\n",
      "subject2= 99\n",
      "subject3= 99\n",
      "subject4= 99\n",
      "subject5= 99\n"
     ]
    },
    {
     "name": "stdout",
     "output_type": "stream",
     "text": [
      "Total= 495\n",
      "percentage= 99.0\n",
      "pass and second class\n"
     ]
    }
   ],
   "source": [
    "student3=Findpercentageofmarksheet()"
   ]
  },
  {
   "cell_type": "code",
   "execution_count": null,
   "id": "a0742b6f-315a-4bdd-b076-8498d9b2a80c",
   "metadata": {},
   "outputs": [],
   "source": []
  }
 ],
 "metadata": {
  "kernelspec": {
   "display_name": "Python 3 (ipykernel)",
   "language": "python",
   "name": "python3"
  },
  "language_info": {
   "codemirror_mode": {
    "name": "ipython",
    "version": 3
   },
   "file_extension": ".py",
   "mimetype": "text/x-python",
   "name": "python",
   "nbconvert_exporter": "python",
   "pygments_lexer": "ipython3",
   "version": "3.12.4"
  }
 },
 "nbformat": 4,
 "nbformat_minor": 5
}
