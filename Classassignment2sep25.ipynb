{
 "cells": [
  {
   "cell_type": "code",
   "execution_count": 3,
   "id": "9063a7ce-04b7-4677-81be-43ce66292695",
   "metadata": {},
   "outputs": [],
   "source": [
    "from codemultifunction import multifunctionscode"
   ]
  },
  {
   "cell_type": "code",
   "execution_count": 4,
   "id": "c698f594-4407-4aa1-976e-c58c26794019",
   "metadata": {},
   "outputs": [
    {
     "name": "stdout",
     "output_type": "stream",
     "text": [
      "Subfiels in Ai are:\n"
     ]
    },
    {
     "data": {
      "text/plain": [
       "'subfields'"
      ]
     },
     "execution_count": 4,
     "metadata": {},
     "output_type": "execute_result"
    }
   ],
   "source": [
    "multifunctionscode.SubfieldsinAI_subfields()"
   ]
  },
  {
   "cell_type": "code",
   "execution_count": 5,
   "id": "3692eca5-e9c5-4577-9bfa-5bcb509b7d41",
   "metadata": {},
   "outputs": [
    {
     "name": "stdin",
     "output_type": "stream",
     "text": [
      "Enter a number 52452\n"
     ]
    },
    {
     "name": "stdout",
     "output_type": "stream",
     "text": [
      "52452 is even number\n"
     ]
    },
    {
     "data": {
      "text/plain": [
       "'EVEN NUMBER'"
      ]
     },
     "execution_count": 5,
     "metadata": {},
     "output_type": "execute_result"
    }
   ],
   "source": [
    "multifunctionscode.Oddeven_oddeven()"
   ]
  },
  {
   "cell_type": "code",
   "execution_count": 6,
   "id": "ed4ef75a-4b3c-4bc2-8630-e479dcfc9b32",
   "metadata": {},
   "outputs": [
    {
     "name": "stdin",
     "output_type": "stream",
     "text": [
      "Your age: 20\n",
      "Your gender: male\n"
     ]
    },
    {
     "name": "stdout",
     "output_type": "stream",
     "text": [
      "not eligible for marriage\n"
     ]
    },
    {
     "data": {
      "text/plain": [
       "'NOT ELGIBILE FOR MARRIAGE'"
      ]
     },
     "execution_count": 6,
     "metadata": {},
     "output_type": "execute_result"
    }
   ],
   "source": [
    "multifunctionscode.Eligibilityformarriage()"
   ]
  },
  {
   "cell_type": "code",
   "execution_count": 7,
   "id": "035da21a-ee02-49f0-98a9-c91d2e0d27af",
   "metadata": {},
   "outputs": [
    {
     "name": "stdin",
     "output_type": "stream",
     "text": [
      "Height: 32\n",
      "Breadth: 34\n"
     ]
    },
    {
     "name": "stdout",
     "output_type": "stream",
     "text": [
      "Area of triangle: 544.0\n"
     ]
    },
    {
     "data": {
      "text/plain": [
       "'Area of triangle'"
      ]
     },
     "execution_count": 7,
     "metadata": {},
     "output_type": "execute_result"
    }
   ],
   "source": [
    "multifunctionscode.Areaoftriangle()"
   ]
  },
  {
   "cell_type": "code",
   "execution_count": 9,
   "id": "9f0cd98e-6ded-4772-9d8d-d4ad73d8a4e1",
   "metadata": {},
   "outputs": [
    {
     "name": "stdin",
     "output_type": "stream",
     "text": [
      "Height1: 2\n",
      "Height2: 4\n",
      "Breadth: 4\n"
     ]
    },
    {
     "name": "stdout",
     "output_type": "stream",
     "text": [
      "Area of perimeter: 10\n"
     ]
    },
    {
     "data": {
      "text/plain": [
       "'Area of perimeter'"
      ]
     },
     "execution_count": 9,
     "metadata": {},
     "output_type": "execute_result"
    }
   ],
   "source": [
    "multifunctionscode.Areaofperimeter()"
   ]
  },
  {
   "cell_type": "code",
   "execution_count": 11,
   "id": "96b0a84f-f190-43f2-a951-39f9e350a3d7",
   "metadata": {},
   "outputs": [
    {
     "name": "stdin",
     "output_type": "stream",
     "text": [
      "subject1= 45\n",
      "subject2= 55\n",
      "subject3= 60\n",
      "subject4= 45\n",
      "subject5= 36\n"
     ]
    },
    {
     "name": "stdout",
     "output_type": "stream",
     "text": [
      "Total= 241\n",
      "percentage= 48.2\n",
      "pass and second class\n"
     ]
    },
    {
     "data": {
      "text/plain": [
       "48.2"
      ]
     },
     "execution_count": 11,
     "metadata": {},
     "output_type": "execute_result"
    }
   ],
   "source": [
    "multifunctionscode.Findpercentageofmarksheet()"
   ]
  },
  {
   "cell_type": "code",
   "execution_count": null,
   "id": "a7bd459f-565e-4eba-9fbe-436fdea36022",
   "metadata": {},
   "outputs": [],
   "source": []
  }
 ],
 "metadata": {
  "kernelspec": {
   "display_name": "Python 3 (ipykernel)",
   "language": "python",
   "name": "python3"
  },
  "language_info": {
   "codemirror_mode": {
    "name": "ipython",
    "version": 3
   },
   "file_extension": ".py",
   "mimetype": "text/x-python",
   "name": "python",
   "nbconvert_exporter": "python",
   "pygments_lexer": "ipython3",
   "version": "3.12.4"
  }
 },
 "nbformat": 4,
 "nbformat_minor": 5
}
