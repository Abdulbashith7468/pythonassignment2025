{
 "cells": [
  {
   "cell_type": "code",
   "execution_count": 19,
   "id": "c9a3e265-59cc-4bc0-8c5c-9d27b6b0ee4c",
   "metadata": {},
   "outputs": [],
   "source": [
    "lists=[\"SUB_FIELDS IN AI ARE:\",\"MACHINE LEARNING\",\"NEURAL NETWORKS\",\"VISION\",\"ROBOTICS\",\"SPEECH PROCESSING\",\"NATURAL LANGUAGE PROCESSING\"]\n",
    "class subfields_subfieldsinai():\n",
    "    def subfieldsinai():\n",
    "        for subfields in lists:\n",
    "            print (subfields)\n",
    "            subfields=\"subfields\"\n",
    "            return subfields"
   ]
  },
  {
   "cell_type": "code",
   "execution_count": 21,
   "id": "edaaafb1-fedb-47c3-9b69-48a389038a2b",
   "metadata": {},
   "outputs": [
    {
     "name": "stdout",
     "output_type": "stream",
     "text": [
      "SUB_FIELDS IN AI ARE:\n"
     ]
    },
    {
     "data": {
      "text/plain": [
       "'subfields'"
      ]
     },
     "execution_count": 21,
     "metadata": {},
     "output_type": "execute_result"
    }
   ],
   "source": [
    "subfields_subfieldsinai.subfieldsinai()"
   ]
  },
  {
   "cell_type": "code",
   "execution_count": 29,
   "id": "d3116e96-b238-4b1a-9db5-fccb7b11e5d9",
   "metadata": {},
   "outputs": [],
   "source": [
    "class oddeven_numbers():\n",
    "    def oddevennumbers():\n",
    "        num=int(input(\"Enter the number:\"))\n",
    "        if (num%2==1):\n",
    "            print (num,\"The number is odd\")\n",
    "            num=\"the number is odd\"\n",
    "        else:\n",
    "            print(num,\"the number is even\")\n",
    "            num=\"the number is even\"\n",
    "        return num"
   ]
  },
  {
   "cell_type": "code",
   "execution_count": 30,
   "id": "3aa8a54b-4e61-45e1-8c75-f99c1db80ebd",
   "metadata": {},
   "outputs": [
    {
     "name": "stdin",
     "output_type": "stream",
     "text": [
      "Enter the number: 52452\n"
     ]
    },
    {
     "name": "stdout",
     "output_type": "stream",
     "text": [
      "52452 the number is even\n"
     ]
    },
    {
     "data": {
      "text/plain": [
       "'the number is even'"
      ]
     },
     "execution_count": 30,
     "metadata": {},
     "output_type": "execute_result"
    }
   ],
   "source": [
    "oddeven_numbers.oddevennumbers()"
   ]
  },
  {
   "cell_type": "code",
   "execution_count": 52,
   "id": "6d808078-19c4-411f-b125-148e426ba287",
   "metadata": {},
   "outputs": [],
   "source": [
    "class Eligibilityofmarriage():\n",
    "    def eligibileformarriage():\n",
    "        age=int(input(\"Enter the age:\"))\n",
    "        gender=input(\"Enter the gender:\")\n",
    "        if((age>=25)and(gender==\"male\")):\n",
    "            print(\"Eligible for marriage\")\n",
    "            answer=\"Eligible for marriage\"\n",
    "        elif((age>=21)and(gender==\"female\")):\n",
    "            print(\"Eligible for marriage\")\n",
    "            answer=\"Eligible for marriage\"\n",
    "        else:\n",
    "            print(\"Not eligible for marriage\")\n",
    "            answer=\"Not eligible for marriage\"\n",
    "        return answer"
   ]
  },
  {
   "cell_type": "code",
   "execution_count": 53,
   "id": "640386df-5154-4d8d-9c92-44799caab0e4",
   "metadata": {},
   "outputs": [
    {
     "name": "stdin",
     "output_type": "stream",
     "text": [
      "Enter the age: 20\n",
      "Enter the gender: male\n"
     ]
    },
    {
     "name": "stdout",
     "output_type": "stream",
     "text": [
      "Not eligible for marriage\n"
     ]
    },
    {
     "data": {
      "text/plain": [
       "'Not eligible for marriage'"
      ]
     },
     "execution_count": 53,
     "metadata": {},
     "output_type": "execute_result"
    }
   ],
   "source": [
    "Eligibilityofmarriage.eligibileformarriage()"
   ]
  },
  {
   "cell_type": "code",
   "execution_count": 55,
   "id": "9300d0e6-3107-40ee-b85e-599012902c04",
   "metadata": {},
   "outputs": [],
   "source": [
    "class marksheet(): \n",
    "    def findthepercentage():\n",
    "        sub1=int(input(\"subject1=\"))\n",
    "        sub2=int(input(\"subject2=\"))\n",
    "        sub3=int(input(\"subject3=\"))\n",
    "        sub4=int(input(\"subject4=\"))\n",
    "        sub5=int(input(\"subject5=\"))\n",
    "        total=(sub1+sub2+sub3+sub4+sub5)\n",
    "        percentage=(total/5)\n",
    "        print(\"Total:\",total)\n",
    "        print(\"percentage:\",percentage)\n",
    "        if(sub1<35 and sub2<35 and sub3<35 and sub4<35 and sub5<35):\n",
    "            print(\"Result:FAIL\")\n",
    "            result=\"FAIL\"\n",
    "        else:\n",
    "            print(\"Result:PASS\")\n",
    "            result=\"PASS\"\n",
    "        return result"
   ]
  },
  {
   "cell_type": "code",
   "execution_count": 57,
   "id": "b83c02b3-1767-4ba0-a855-2554158553bc",
   "metadata": {},
   "outputs": [
    {
     "name": "stdin",
     "output_type": "stream",
     "text": [
      "subject1= 97\n",
      "subject2= 96\n",
      "subject3= 93\n",
      "subject4= 92\n",
      "subject5= 87\n"
     ]
    },
    {
     "name": "stdout",
     "output_type": "stream",
     "text": [
      "Total: 465\n",
      "percentage: 93.0\n",
      "Result:PASS\n"
     ]
    },
    {
     "data": {
      "text/plain": [
       "'PASS'"
      ]
     },
     "execution_count": 57,
     "metadata": {},
     "output_type": "execute_result"
    }
   ],
   "source": [
    "marksheet.findthepercentage()"
   ]
  },
  {
   "cell_type": "code",
   "execution_count": 59,
   "id": "558ff189-7acc-4671-8dd2-08f24dd83be6",
   "metadata": {},
   "outputs": [],
   "source": [
    "class TRIANGLE():\n",
    "    def areaoftriangle():\n",
    "        height=int(input(\"Height:\"))\n",
    "        breadth=int(input(\"Breadth:\"))\n",
    "        triangle=(height*breadth/2)\n",
    "        print (\"Area of triangle:\",triangle)\n",
    "        area=\"Area of triange\"\n",
    "        return area"
   ]
  },
  {
   "cell_type": "code",
   "execution_count": 60,
   "id": "e0548636-d36a-44a6-a476-50f3da82e762",
   "metadata": {},
   "outputs": [
    {
     "name": "stdin",
     "output_type": "stream",
     "text": [
      "Height: 32\n",
      "Breadth: 34\n"
     ]
    },
    {
     "name": "stdout",
     "output_type": "stream",
     "text": [
      "Area of triangle: 544.0\n"
     ]
    },
    {
     "data": {
      "text/plain": [
       "'Area of triange'"
      ]
     },
     "execution_count": 60,
     "metadata": {},
     "output_type": "execute_result"
    }
   ],
   "source": [
    "TRIANGLE.areaoftriangle()"
   ]
  },
  {
   "cell_type": "code",
   "execution_count": 62,
   "id": "73521a99-5367-4760-93f7-c35d518b4012",
   "metadata": {},
   "outputs": [],
   "source": [
    "class PERIMETER():\n",
    "    def areaofperimeter():\n",
    "        height1=int(input(\"Height1:\"))\n",
    "        height2=int(input(\"Height2:\"))\n",
    "        breadth=int(input(\"Breadth:\"))\n",
    "        perimeter=(height1+height2+breadth)\n",
    "        print(\"Area of perimeter:\",perimeter)\n",
    "        formula=\"Area of perimeter\"\n",
    "        return formula"
   ]
  },
  {
   "cell_type": "code",
   "execution_count": 63,
   "id": "f110d1d4-86b7-4788-af8f-67f5af19b476",
   "metadata": {},
   "outputs": [
    {
     "name": "stdin",
     "output_type": "stream",
     "text": [
      "Height1: 2\n",
      "Height2: 4\n",
      "Breadth: 4\n"
     ]
    },
    {
     "name": "stdout",
     "output_type": "stream",
     "text": [
      "Area of perimeter: 10\n"
     ]
    },
    {
     "data": {
      "text/plain": [
       "'Area of perimeter'"
      ]
     },
     "execution_count": 63,
     "metadata": {},
     "output_type": "execute_result"
    }
   ],
   "source": [
    "PERIMETER.areaofperimeter()"
   ]
  },
  {
   "cell_type": "code",
   "execution_count": null,
   "id": "6a808c96-540c-405b-9f55-2bddbf97d63a",
   "metadata": {},
   "outputs": [],
   "source": []
  }
 ],
 "metadata": {
  "kernelspec": {
   "display_name": "Python 3 (ipykernel)",
   "language": "python",
   "name": "python3"
  },
  "language_info": {
   "codemirror_mode": {
    "name": "ipython",
    "version": 3
   },
   "file_extension": ".py",
   "mimetype": "text/x-python",
   "name": "python",
   "nbconvert_exporter": "python",
   "pygments_lexer": "ipython3",
   "version": "3.12.4"
  }
 },
 "nbformat": 4,
 "nbformat_minor": 5
}
